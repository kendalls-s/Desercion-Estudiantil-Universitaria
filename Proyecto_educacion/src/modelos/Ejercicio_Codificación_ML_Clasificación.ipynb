{
 "cells": [
  {
   "cell_type": "markdown",
   "metadata": {},
   "source": [
    "# Flujo Completo CLASIFICACIÓN"
   ]
  },
  {
   "cell_type": "code",
   "metadata": {
    "ExecuteTime": {
     "end_time": "2025-08-20T16:13:23.233061Z",
     "start_time": "2025-08-20T16:13:08.260440Z"
    }
   },
   "source": [
    "import pandas as pd\n",
    "from sklearn import model_selection\n",
    "from sklearn.preprocessing import StandardScaler\n",
    "from sklearn.model_selection import KFold\n",
    "from sklearn.linear_model import LogisticRegression\n",
    "from sklearn.tree import DecisionTreeClassifier\n",
    "from sklearn.neighbors import KNeighborsClassifier\n",
    "from sklearn.discriminant_analysis import LinearDiscriminantAnalysis\n",
    "from sklearn.naive_bayes import GaussianNB\n",
    "from sklearn.svm import SVC"
   ],
   "outputs": [],
   "execution_count": 1
  },
  {
   "cell_type": "markdown",
   "metadata": {},
   "source": [
    "# Importamos datos en un Dataframe"
   ]
  },
  {
   "cell_type": "code",
   "metadata": {
    "ExecuteTime": {
     "end_time": "2025-08-14T00:47:13.879225Z",
     "start_time": "2025-08-14T00:47:03.653423Z"
    }
   },
   "source": "df_data = pd.read_excel('Ingresos_por_persona.xlsx')",
   "outputs": [],
   "execution_count": 3
  },
  {
   "cell_type": "code",
   "metadata": {
    "ExecuteTime": {
     "end_time": "2025-08-14T00:47:14.705343Z",
     "start_time": "2025-08-14T00:47:14.656982Z"
    }
   },
   "source": [
    "df_data.head() # Variable output --> \"Ingresos\""
   ],
   "outputs": [
    {
     "data": {
      "text/plain": [
       "   edad  nivel_educ    raza     sexo  ganancias_capital  perdidas_capital  \\\n",
       "0    39          13   White     Male               2174                 0   \n",
       "1    50          13   White     Male                  0                 0   \n",
       "2    38           9   White     Male                  0                 0   \n",
       "3    53           7   Black     Male                  0                 0   \n",
       "4    28          13   Black   Female                  0                 0   \n",
       "\n",
       "   Horas_semana Ingresos  \n",
       "0            40    <=50K  \n",
       "1            13    <=50K  \n",
       "2            40    <=50K  \n",
       "3            40    <=50K  \n",
       "4            40    <=50K  "
      ],
      "text/html": [
       "<div>\n",
       "<style scoped>\n",
       "    .dataframe tbody tr th:only-of-type {\n",
       "        vertical-align: middle;\n",
       "    }\n",
       "\n",
       "    .dataframe tbody tr th {\n",
       "        vertical-align: top;\n",
       "    }\n",
       "\n",
       "    .dataframe thead th {\n",
       "        text-align: right;\n",
       "    }\n",
       "</style>\n",
       "<table border=\"1\" class=\"dataframe\">\n",
       "  <thead>\n",
       "    <tr style=\"text-align: right;\">\n",
       "      <th></th>\n",
       "      <th>edad</th>\n",
       "      <th>nivel_educ</th>\n",
       "      <th>raza</th>\n",
       "      <th>sexo</th>\n",
       "      <th>ganancias_capital</th>\n",
       "      <th>perdidas_capital</th>\n",
       "      <th>Horas_semana</th>\n",
       "      <th>Ingresos</th>\n",
       "    </tr>\n",
       "  </thead>\n",
       "  <tbody>\n",
       "    <tr>\n",
       "      <th>0</th>\n",
       "      <td>39</td>\n",
       "      <td>13</td>\n",
       "      <td>White</td>\n",
       "      <td>Male</td>\n",
       "      <td>2174</td>\n",
       "      <td>0</td>\n",
       "      <td>40</td>\n",
       "      <td>&lt;=50K</td>\n",
       "    </tr>\n",
       "    <tr>\n",
       "      <th>1</th>\n",
       "      <td>50</td>\n",
       "      <td>13</td>\n",
       "      <td>White</td>\n",
       "      <td>Male</td>\n",
       "      <td>0</td>\n",
       "      <td>0</td>\n",
       "      <td>13</td>\n",
       "      <td>&lt;=50K</td>\n",
       "    </tr>\n",
       "    <tr>\n",
       "      <th>2</th>\n",
       "      <td>38</td>\n",
       "      <td>9</td>\n",
       "      <td>White</td>\n",
       "      <td>Male</td>\n",
       "      <td>0</td>\n",
       "      <td>0</td>\n",
       "      <td>40</td>\n",
       "      <td>&lt;=50K</td>\n",
       "    </tr>\n",
       "    <tr>\n",
       "      <th>3</th>\n",
       "      <td>53</td>\n",
       "      <td>7</td>\n",
       "      <td>Black</td>\n",
       "      <td>Male</td>\n",
       "      <td>0</td>\n",
       "      <td>0</td>\n",
       "      <td>40</td>\n",
       "      <td>&lt;=50K</td>\n",
       "    </tr>\n",
       "    <tr>\n",
       "      <th>4</th>\n",
       "      <td>28</td>\n",
       "      <td>13</td>\n",
       "      <td>Black</td>\n",
       "      <td>Female</td>\n",
       "      <td>0</td>\n",
       "      <td>0</td>\n",
       "      <td>40</td>\n",
       "      <td>&lt;=50K</td>\n",
       "    </tr>\n",
       "  </tbody>\n",
       "</table>\n",
       "</div>"
      ]
     },
     "execution_count": 4,
     "metadata": {},
     "output_type": "execute_result"
    }
   ],
   "execution_count": 4
  },
  {
   "cell_type": "code",
   "metadata": {
    "ExecuteTime": {
     "end_time": "2025-08-14T00:47:17.295603Z",
     "start_time": "2025-08-14T00:47:17.287145Z"
    }
   },
   "source": [
    "df_data = df_data[0:1000]"
   ],
   "outputs": [],
   "execution_count": 5
  },
  {
   "cell_type": "code",
   "metadata": {
    "ExecuteTime": {
     "end_time": "2025-08-14T00:47:19.627760Z",
     "start_time": "2025-08-14T00:47:19.580245Z"
    }
   },
   "source": [
    "df_data.info()"
   ],
   "outputs": [
    {
     "name": "stdout",
     "output_type": "stream",
     "text": [
      "<class 'pandas.core.frame.DataFrame'>\n",
      "RangeIndex: 1000 entries, 0 to 999\n",
      "Data columns (total 8 columns):\n",
      " #   Column             Non-Null Count  Dtype \n",
      "---  ------             --------------  ----- \n",
      " 0   edad               1000 non-null   int64 \n",
      " 1   nivel_educ         1000 non-null   int64 \n",
      " 2   raza               1000 non-null   object\n",
      " 3   sexo               1000 non-null   object\n",
      " 4   ganancias_capital  1000 non-null   int64 \n",
      " 5   perdidas_capital   1000 non-null   int64 \n",
      " 6   Horas_semana       1000 non-null   int64 \n",
      " 7   Ingresos           1000 non-null   object\n",
      "dtypes: int64(5), object(3)\n",
      "memory usage: 62.6+ KB\n"
     ]
    }
   ],
   "execution_count": 6
  },
  {
   "cell_type": "markdown",
   "metadata": {},
   "source": [
    "# Convertir Variables categóricas de entrada (X)"
   ]
  },
  {
   "cell_type": "code",
   "metadata": {
    "ExecuteTime": {
     "end_time": "2025-08-14T00:47:23.736661Z",
     "start_time": "2025-08-14T00:47:23.719770Z"
    }
   },
   "source": [
    "df_X = df_data.drop('Ingresos', axis=1)"
   ],
   "outputs": [],
   "execution_count": 7
  },
  {
   "cell_type": "code",
   "metadata": {
    "ExecuteTime": {
     "end_time": "2025-08-14T00:47:25.650063Z",
     "start_time": "2025-08-14T00:47:25.617162Z"
    }
   },
   "source": [
    "df_X = pd.get_dummies(df_X)"
   ],
   "outputs": [],
   "execution_count": 8
  },
  {
   "cell_type": "code",
   "metadata": {
    "scrolled": false,
    "ExecuteTime": {
     "end_time": "2025-08-14T00:47:28.098419Z",
     "start_time": "2025-08-14T00:47:28.063285Z"
    }
   },
   "source": [
    "df_X.head()"
   ],
   "outputs": [
    {
     "data": {
      "text/plain": [
       "   edad  nivel_educ  ganancias_capital  perdidas_capital  Horas_semana  \\\n",
       "0    39          13               2174                 0            40   \n",
       "1    50          13                  0                 0            13   \n",
       "2    38           9                  0                 0            40   \n",
       "3    53           7                  0                 0            40   \n",
       "4    28          13                  0                 0            40   \n",
       "\n",
       "   raza_ Amer-Indian-Eskimo  raza_ Asian-Pac-Islander  raza_ Black  \\\n",
       "0                     False                     False        False   \n",
       "1                     False                     False        False   \n",
       "2                     False                     False        False   \n",
       "3                     False                     False         True   \n",
       "4                     False                     False         True   \n",
       "\n",
       "   raza_ Other  raza_ White  sexo_ Female  sexo_ Male  \n",
       "0        False         True         False        True  \n",
       "1        False         True         False        True  \n",
       "2        False         True         False        True  \n",
       "3        False        False         False        True  \n",
       "4        False        False          True       False  "
      ],
      "text/html": [
       "<div>\n",
       "<style scoped>\n",
       "    .dataframe tbody tr th:only-of-type {\n",
       "        vertical-align: middle;\n",
       "    }\n",
       "\n",
       "    .dataframe tbody tr th {\n",
       "        vertical-align: top;\n",
       "    }\n",
       "\n",
       "    .dataframe thead th {\n",
       "        text-align: right;\n",
       "    }\n",
       "</style>\n",
       "<table border=\"1\" class=\"dataframe\">\n",
       "  <thead>\n",
       "    <tr style=\"text-align: right;\">\n",
       "      <th></th>\n",
       "      <th>edad</th>\n",
       "      <th>nivel_educ</th>\n",
       "      <th>ganancias_capital</th>\n",
       "      <th>perdidas_capital</th>\n",
       "      <th>Horas_semana</th>\n",
       "      <th>raza_ Amer-Indian-Eskimo</th>\n",
       "      <th>raza_ Asian-Pac-Islander</th>\n",
       "      <th>raza_ Black</th>\n",
       "      <th>raza_ Other</th>\n",
       "      <th>raza_ White</th>\n",
       "      <th>sexo_ Female</th>\n",
       "      <th>sexo_ Male</th>\n",
       "    </tr>\n",
       "  </thead>\n",
       "  <tbody>\n",
       "    <tr>\n",
       "      <th>0</th>\n",
       "      <td>39</td>\n",
       "      <td>13</td>\n",
       "      <td>2174</td>\n",
       "      <td>0</td>\n",
       "      <td>40</td>\n",
       "      <td>False</td>\n",
       "      <td>False</td>\n",
       "      <td>False</td>\n",
       "      <td>False</td>\n",
       "      <td>True</td>\n",
       "      <td>False</td>\n",
       "      <td>True</td>\n",
       "    </tr>\n",
       "    <tr>\n",
       "      <th>1</th>\n",
       "      <td>50</td>\n",
       "      <td>13</td>\n",
       "      <td>0</td>\n",
       "      <td>0</td>\n",
       "      <td>13</td>\n",
       "      <td>False</td>\n",
       "      <td>False</td>\n",
       "      <td>False</td>\n",
       "      <td>False</td>\n",
       "      <td>True</td>\n",
       "      <td>False</td>\n",
       "      <td>True</td>\n",
       "    </tr>\n",
       "    <tr>\n",
       "      <th>2</th>\n",
       "      <td>38</td>\n",
       "      <td>9</td>\n",
       "      <td>0</td>\n",
       "      <td>0</td>\n",
       "      <td>40</td>\n",
       "      <td>False</td>\n",
       "      <td>False</td>\n",
       "      <td>False</td>\n",
       "      <td>False</td>\n",
       "      <td>True</td>\n",
       "      <td>False</td>\n",
       "      <td>True</td>\n",
       "    </tr>\n",
       "    <tr>\n",
       "      <th>3</th>\n",
       "      <td>53</td>\n",
       "      <td>7</td>\n",
       "      <td>0</td>\n",
       "      <td>0</td>\n",
       "      <td>40</td>\n",
       "      <td>False</td>\n",
       "      <td>False</td>\n",
       "      <td>True</td>\n",
       "      <td>False</td>\n",
       "      <td>False</td>\n",
       "      <td>False</td>\n",
       "      <td>True</td>\n",
       "    </tr>\n",
       "    <tr>\n",
       "      <th>4</th>\n",
       "      <td>28</td>\n",
       "      <td>13</td>\n",
       "      <td>0</td>\n",
       "      <td>0</td>\n",
       "      <td>40</td>\n",
       "      <td>False</td>\n",
       "      <td>False</td>\n",
       "      <td>True</td>\n",
       "      <td>False</td>\n",
       "      <td>False</td>\n",
       "      <td>True</td>\n",
       "      <td>False</td>\n",
       "    </tr>\n",
       "  </tbody>\n",
       "</table>\n",
       "</div>"
      ]
     },
     "execution_count": 9,
     "metadata": {},
     "output_type": "execute_result"
    }
   ],
   "execution_count": 9
  },
  {
   "cell_type": "markdown",
   "metadata": {},
   "source": [
    "# Crear un array (dataframe) con las variables de entrada (X) y otro para la variable de salida (y)"
   ]
  },
  {
   "cell_type": "code",
   "metadata": {
    "ExecuteTime": {
     "end_time": "2025-08-14T00:47:33.088732Z",
     "start_time": "2025-08-14T00:47:33.079807Z"
    }
   },
   "source": [
    "X = df_X.values\n",
    "y = df_data['Ingresos'].values"
   ],
   "outputs": [],
   "execution_count": 10
  },
  {
   "cell_type": "markdown",
   "metadata": {},
   "source": [
    "# Dividir datos en conjunto de \"Training\" (ej: 80%) y conjunto de \"Test\" (ej:20%)"
   ]
  },
  {
   "cell_type": "code",
   "metadata": {
    "collapsed": true,
    "ExecuteTime": {
     "end_time": "2025-08-14T00:47:37.717146Z",
     "start_time": "2025-08-14T00:47:37.691780Z"
    }
   },
   "source": [
    "from sklearn.model_selection import train_test_split\n",
    "X_train, X_test, y_train, y_test = train_test_split(X, y, test_size = 0.2, random_state=42, stratify=y) #stratify --> datos_etiquetados\n",
    "#Escalar los datos\n",
    "scaler = StandardScaler()\n",
    "X_scaled = scaler.fit_transform(X)  # X es tu matriz de características"
   ],
   "outputs": [],
   "execution_count": 11
  },
  {
   "cell_type": "markdown",
   "metadata": {},
   "source": [
    "# Construir Modelos en base a los diferentes algoritmos"
   ]
  },
  {
   "cell_type": "code",
   "metadata": {
    "ExecuteTime": {
     "end_time": "2025-08-14T00:47:43.739473Z",
     "start_time": "2025-08-14T00:47:43.729448Z"
    }
   },
   "source": [
    "models = [('LR', LogisticRegression()),\n",
    "          ('LDA', LinearDiscriminantAnalysis()),\n",
    "          ('KNN', KNeighborsClassifier()),\n",
    "          ('CART', DecisionTreeClassifier()),\n",
    "          ('NB', GaussianNB()),\n",
    "          ('SVM', SVC())]"
   ],
   "outputs": [],
   "execution_count": 12
  },
  {
   "cell_type": "markdown",
   "metadata": {},
   "source": [
    "# Evaluar cada modelo"
   ]
  },
  {
   "cell_type": "code",
   "metadata": {
    "ExecuteTime": {
     "end_time": "2025-08-14T00:49:47.026494Z",
     "start_time": "2025-08-14T00:49:45.839328Z"
    }
   },
   "source": [
    "results = []\n",
    "names = []\n",
    "for name, model in models:\n",
    " kf = KFold(n_splits=10, shuffle=True, random_state=42)\n",
    " cv_results = model_selection.cross_val_score(model, X_scaled, y, cv=kf)\n",
    " results.append(cv_results)\n",
    " names.append(name)\n",
    " msg = \"%s: %f (%f)\" % (name, cv_results.mean(), cv_results.std())\n",
    " print(msg)"
   ],
   "outputs": [
    {
     "name": "stdout",
     "output_type": "stream",
     "text": [
      "LR: 0.813000 (0.028653)\n",
      "LDA: 0.812000 (0.025219)\n",
      "KNN: 0.807000 (0.027946)\n",
      "CART: 0.769000 (0.036180)\n",
      "NB: 0.307000 (0.032879)\n",
      "SVM: 0.820000 (0.024900)\n"
     ]
    }
   ],
   "execution_count": 13
  },
  {
   "cell_type": "markdown",
   "metadata": {},
   "source": [
    "# Seleccionar mejor modelo tras benchmarking"
   ]
  },
  {
   "cell_type": "code",
   "metadata": {
    "ExecuteTime": {
     "end_time": "2025-04-06T05:30:51.002433Z",
     "start_time": "2025-04-06T05:30:50.998652Z"
    }
   },
   "source": [
    "svc = SVC()"
   ],
   "outputs": [],
   "execution_count": 48
  },
  {
   "cell_type": "markdown",
   "metadata": {},
   "source": [
    "# Optimizar y entrenar el modelo"
   ]
  },
  {
   "cell_type": "code",
   "metadata": {
    "ExecuteTime": {
     "end_time": "2025-04-06T22:29:43.231983Z",
     "start_time": "2025-04-06T22:29:42.345299Z"
    }
   },
   "source": [
    "import numpy as np\n",
    "from sklearn.model_selection import GridSearchCV\n",
    "\n",
    "Cs = [0.1, 1] # Menores combinaciones para mayor rapidez [0.001, 0.01, 0.1, 1, 10]\n",
    "gammas = [0.1, 1] # Menores combinaciones para mayor rapidez [0.001, 0.01, 0.1, 1]\n",
    "param_grid = {'C': Cs, 'gamma' : gammas}\n",
    "svc_cv = GridSearchCV(svc, param_grid, cv=5)\n",
    "svc_cv.fit(X, y)\n",
    "svc_cv.best_params_\n",
    "svc_cv.best_score_"
   ],
   "outputs": [
    {
     "data": {
      "text/plain": [
       "np.float64(0.774)"
      ]
     },
     "execution_count": 66,
     "metadata": {},
     "output_type": "execute_result"
    }
   ],
   "execution_count": 66
  },
  {
   "cell_type": "markdown",
   "metadata": {},
   "source": [
    "# Predecir Resultados de salida (y_prediction) a partir de nuevos datos de entrada (X_new)"
   ]
  },
  {
   "cell_type": "code",
   "metadata": {
    "ExecuteTime": {
     "end_time": "2025-04-06T22:29:49.306822Z",
     "start_time": "2025-04-06T22:29:49.279848Z"
    }
   },
   "source": [
    "df_new = pd.read_excel('Ingresos_nuevos_datos.xlsx')\n",
    "df_X_new = pd.get_dummies(df_new)\n",
    "X_new = df_X_new.values"
   ],
   "outputs": [],
   "execution_count": 67
  },
  {
   "cell_type": "code",
   "metadata": {
    "ExecuteTime": {
     "end_time": "2025-04-06T22:29:50.480451Z",
     "start_time": "2025-04-06T22:29:50.472948Z"
    }
   },
   "source": [
    "X_new"
   ],
   "outputs": [
    {
     "data": {
      "text/plain": [
       "array([[52, 9, 0, 0, 45, False, False, True, False, False, False, True],\n",
       "       [43, 13, 0, 1500, 25, False, True, False, False, False, True,\n",
       "        False],\n",
       "       [40, 9, 2000, 0, 40, False, False, False, True, False, False,\n",
       "        True],\n",
       "       [30, 12, 0, 0, 40, True, False, False, False, False, False, True],\n",
       "       [22, 13, 0, 0, 50, False, False, False, False, True, True, False],\n",
       "       [37, 14, 0, 550, 40, False, False, True, False, False, True,\n",
       "        False],\n",
       "       [47, 15, 0, 1902, 60, False, False, True, False, False, True,\n",
       "        False],\n",
       "       [50, 13, 0, 0, 55, False, False, True, False, False, False, True],\n",
       "       [43, 10, 0, 0, 40, False, False, True, False, False, False, True],\n",
       "       [42, 16, 0, 0, 45, False, False, True, False, False, False, True],\n",
       "       [53, 9, 0, 0, 40, False, False, True, False, False, True, False],\n",
       "       [49, 10, 0, 0, 50, False, False, True, False, False, False, True],\n",
       "       [29, 13, 0, 0, 70, False, False, True, False, False, False, True],\n",
       "       [44, 9, 14344, 0, 40, False, False, True, False, False, True,\n",
       "        False]], dtype=object)"
      ]
     },
     "execution_count": 68,
     "metadata": {},
     "output_type": "execute_result"
    }
   ],
   "execution_count": 68
  },
  {
   "cell_type": "code",
   "metadata": {
    "scrolled": true,
    "ExecuteTime": {
     "end_time": "2025-04-06T22:29:53.417127Z",
     "start_time": "2025-04-06T22:29:53.410851Z"
    }
   },
   "source": [
    "y_prediction = svc_cv.predict(X_new)\n",
    "print(\"Prediccion: {}\".format(y_prediction))"
   ],
   "outputs": [
    {
     "name": "stdout",
     "output_type": "stream",
     "text": [
      "Prediccion: [' >50K' ' <=50K' ' <=50K' ' <=50K' ' <=50K' ' <=50K' ' >50K' ' >50K'\n",
      " ' <=50K' ' >50K' ' <=50K' ' >50K' ' <=50K' ' >50K']\n"
     ]
    }
   ],
   "execution_count": 69
  }
 ],
 "metadata": {
  "kernelspec": {
   "display_name": "Python 3",
   "language": "python",
   "name": "python3"
  },
  "language_info": {
   "codemirror_mode": {
    "name": "ipython",
    "version": 3
   },
   "file_extension": ".py",
   "mimetype": "text/x-python",
   "name": "python",
   "nbconvert_exporter": "python",
   "pygments_lexer": "ipython3",
   "version": "3.7.1"
  }
 },
 "nbformat": 4,
 "nbformat_minor": 2
}
