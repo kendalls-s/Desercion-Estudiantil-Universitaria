{
 "cells": [
  {
   "cell_type": "markdown",
   "metadata": {},
   "source": [
    "# Análisis de Graduados\n",
    "Este notebook realiza las siguientes tareas:\n",
    "- Limpieza de datos\n",
    "- Predicción de graduación\n",
    "- Análisis exploratorio de datos (EDA)\n",
    "- Dashboard interactivo con Streamlit (comentado para notebook)"
   ],
   "id": "426ef2d3f8858eaa"
  },
  {
   "cell_type": "code",
   "metadata": {},
   "source": [
    "import pandas as pd\n",
    "from eda.eda_universidades import EDAUniversidades\n",
    "from datos.Limpieza import Limpieza\n",
    "from modelos.Modelo import Prediccion\n",
    "import requests\n",
    "from IPython.display import Image, display\n",
    "# import streamlit as st  # Streamlit se ejecuta fuera de Jupyter\n",
    "import warnings\n",
    "warnings.filterwarnings('ignore')"
   ],
   "execution_count": null,
   "outputs": [],
   "id": "d3f5741a3c6ac9d7"
  },
  {
   "cell_type": "markdown",
   "metadata": {},
   "source": "##  Limpieza de datos (comentado)",
   "id": "7057746465be22ad"
  },
  {
   "cell_type": "code",
   "metadata": {},
   "source": [
    "# Crear instancia de la clase\n",
    "# limpieza = Limpieza()\n",
    "\n",
    "# Ejecutar métodos de limpieza\n",
    "# limpieza.Limpieza_matricula_actual()\n",
    "# limpieza.Limpieza_matricula_historicos()\n",
    "# limpieza.Limpieza_graduados()\n",
    "# limpieza.Sin_Graduar()"
   ],
   "execution_count": null,
   "outputs": [],
   "id": "5ee55da42a57ffce"
  },
  {
   "cell_type": "markdown",
   "metadata": {},
   "source": "##  Predicción de graduación (comentado)",
   "id": "2a9b7f1ac8b421d7"
  },
  {
   "cell_type": "code",
   "metadata": {},
   "source": [
    "# Crear la instancia\n",
    "# lr = Prediccion()\n",
    "\n",
    "# Llamar al método de instancia con los 4 parámetros\n",
    "# resultado = lr.predecir_prob_graduacion(\n",
    "#     r\"C:\\Users\\kenda\\OneDrive\\CUC\\Cuatri_4\\BD\\Progra_2\\Proyecto_final\\Proyecto_educacion\\data\\processed\\Graduados_UCR.csv\",\n",
    "#     r\"C:\\Users\\kenda\\OneDrive\\CUC\\Cuatri_4\\BD\\Progra_2\\Proyecto_final\\Proyecto_educacion\\data\\processed\\Solo_Matriculados_NoGraduados.csv\",\n",
    "#     r\"C:\\Users\\kenda\\OneDrive\\CUC\\Cuatri_4\\BD\\Progra_2\\Proyecto_final\\Proyecto_educacion\\data\\processed\\Matriculados_UCR.csv\",\n",
    "#     r\"C:\\Users\\kenda\\OneDrive\\CUC\\Cuatri_4\\BD\\Progra_2\\Proyecto_final\\Proyecto_educacion\\data\\processed\\Predicciones_Graduacion.csv\"\n",
    "# )"
   ],
   "execution_count": null,
   "outputs": [],
   "id": "bce084d8af806da6"
  },
  {
   "cell_type": "markdown",
   "metadata": {},
   "source": "##  Análisis Exploratorio de Datos (EDA)",
   "id": "dcfbc98a666514d5"
  },
  {
   "cell_type": "code",
   "metadata": {},
   "source": [
    "# Cargar dataset de graduados\n",
    "df = pd.read_csv(\n",
    "    r\"C:/Users/kenda/OneDrive/CUC/Cuatri_4/BD/Progra_2/Proyecto_final/Proyecto_educacion/data/processed/Graduados.csv\",\n",
    "    sep=';', encoding='utf-8-sig'\n",
    ")\n",
    "\n",
    "# Instancia EDA\n",
    "eda = EDAUniversidades(df)\n",
    "\n",
    "# Resumen general\n",
    "eda.resumen_general()\n",
    "\n",
    "# Visualizaciones\n",
    "eda.diplomas_por_anio()\n",
    "eda.diplomas_por_sector()\n",
    "eda.diplomas_por_universidad(top_n=10)\n",
    "eda.grados_academicos()\n",
    "eda.carreras_mas_frecuentes(top_n=10)\n",
    "eda.sedes_conare(top_n=10)"
   ],
   "execution_count": null,
   "outputs": [],
   "id": "db36896d7c845acf"
  },
  {
   "cell_type": "markdown",
   "metadata": {},
   "source": "##  API (comentado)",
   "id": "7210c7a2e8a1c05c"
  },
  {
   "cell_type": "code",
   "metadata": {},
   "source": [
    "# Probar análisis\n",
    "# resp = requests.get(\"http://127.0.0.1:8000/consultar\")\n",
    "# print(resp.json())"
   ],
   "execution_count": null,
   "outputs": [],
   "id": "b1457920b5c522f8"
  },
  {
   "cell_type": "markdown",
   "metadata": {},
   "source": "##  Streamlit (comentado, usar fuera de Jupyter)",
   "id": "b1614e3438c280cd"
  },
  {
   "cell_type": "code",
   "metadata": {},
   "source": [
    "# st.set_page_config(page_title=\"Dashboard Graduados\", layout=\"wide\")\n",
    "# st.title(\"Dashboard de Graduados\")\n",
    "# df = pd.read_csv(\"C:/Users/kenda/OneDrive/CUC/Cuatri_4/BD/Progra_2/Proyecto_final/Proyecto_educacion/data/processed/Graduados.csv\", sep=';', encoding='utf-8-sig')\n",
    "# dashboard = DashboardGraduados(df)\n",
    "\n",
    "# # Sidebar: filtros\n",
    "# st.sidebar.header(\"Filtros\")\n",
    "# carrera_seleccionada = st.sidebar.selectbox(\n",
    "#     \"Seleccionar carrera\",\n",
    "#     options=[None] + df[\"CARRERA\"].dropna().unique().tolist()\n",
    "# )\n",
    "# regiones_seleccionadas = st.sidebar.multiselect(\n",
    "#     \"Seleccionar región(es)\",\n",
    "#     options=df[\"REGION_PLANIFICACION_GRADUADO\"].dropna().unique().tolist()\n",
    "# )\n",
    "\n",
    "# # Aplicar filtros\n",
    "# df_filtrado = dashboard.filtrar_datos(\n",
    "#     carrera=carrera_seleccionada,\n",
    "#     regiones=regiones_seleccionadas\n",
    "# )\n",
    "\n",
    "# # Mostrar métricas y gráficos\n",
    "# dashboard.mostrar_metricas(df_filtrado)\n",
    "# dashboard.grafico_distribucion_edad(df_filtrado)\n",
    "# dashboard.grafico_graduados_provincia(df_filtrado)\n",
    "# dashboard.mostrar_tabla(df_filtrado)\n",
    "# dashboard.descargar_csv(df_filtrado)"
   ],
   "execution_count": null,
   "outputs": [],
   "id": "a8cfa22c3227f8f5"
  }
 ],
 "metadata": {
  "kernelspec": {
   "display_name": "Python 3",
   "language": "python",
   "name": "python3"
  },
  "language_info": {
   "name": "python",
   "version": "3.11"
  }
 },
 "nbformat": 4,
 "nbformat_minor": 5
}
